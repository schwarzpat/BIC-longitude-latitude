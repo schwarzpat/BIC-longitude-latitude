{
 "cells": [
  {
   "cell_type": "code",
   "execution_count": 27,
   "metadata": {},
   "outputs": [],
   "source": [
    "import os, json\n",
    "import pandas as pd\n",
    "import glob\n",
    "from geopy.geocoders import Nominatim\n",
    "import numpy as np\n",
    "from tqdm import tqdm\n",
    "import multiprocessing as mp\n",
    "from multiprocesspandas import applyparallel\n",
    "tqdm.pandas()"
   ]
  },
  {
   "cell_type": "code",
   "execution_count": 29,
   "metadata": {},
   "outputs": [],
   "source": [
    "path_to_json = 'C:\\\\Users\\\\'\n",
    "geolocator = Nominatim(user_agent='my_user_agent')\n",
    "\n",
    "temp = pd.DataFrame()\n",
    "json_pattern = os.path.join(path_to_json, '*.json')\n",
    "file_list = glob.glob(json_pattern)\n",
    "\n",
    "for file in file_list:\n",
    "    data = pd.read_json(file, orient = str)\n",
    "    temp = temp.append(data, ignore_index = True)\n",
    "\n",
    "temp2 = pd.json_normalize(temp['list'])\n",
    "\n",
    "BIC_DATA = temp.join(temp2)\n",
    "del temp\n",
    "del temp2\n",
    "del file_list\n",
    "\n",
    "BIC_DATA = BIC_DATA.drop('id',1)\n",
    "BIC_DATA = BIC_DATA.drop('list',1)\n",
    "BIC_DATA.insert(0, \"id\", range(1, 1+len(BIC_DATA)))\n",
    "BIC_DATA['geocode'] =  BIC_DATA['city']+','+BIC_DATA['country']\n"
   ]
  },
  {
   "cell_type": "code",
   "execution_count": 3,
   "metadata": {},
   "outputs": [
    {
     "data": {
      "text/html": [
       "<div>\n",
       "<style scoped>\n",
       "    .dataframe tbody tr th:only-of-type {\n",
       "        vertical-align: middle;\n",
       "    }\n",
       "\n",
       "    .dataframe tbody tr th {\n",
       "        vertical-align: top;\n",
       "    }\n",
       "\n",
       "    .dataframe thead th {\n",
       "        text-align: right;\n",
       "    }\n",
       "</style>\n",
       "<table border=\"1\" class=\"dataframe\">\n",
       "  <thead>\n",
       "    <tr style=\"text-align: right;\">\n",
       "      <th></th>\n",
       "      <th>id</th>\n",
       "      <th>country</th>\n",
       "      <th>country_code</th>\n",
       "      <th>bank</th>\n",
       "      <th>city</th>\n",
       "      <th>branch</th>\n",
       "      <th>swift_code</th>\n",
       "      <th>geocode</th>\n",
       "    </tr>\n",
       "  </thead>\n",
       "  <tbody>\n",
       "    <tr>\n",
       "      <th>0</th>\n",
       "      <td>1</td>\n",
       "      <td>Andorra</td>\n",
       "      <td>AD</td>\n",
       "      <td>ANDORRA BANC AGRICOL REIG S.A.</td>\n",
       "      <td>LES ESCALDES</td>\n",
       "      <td>None</td>\n",
       "      <td>BACAADAD</td>\n",
       "      <td>LES ESCALDES,Andorra</td>\n",
       "    </tr>\n",
       "    <tr>\n",
       "      <th>1</th>\n",
       "      <td>2</td>\n",
       "      <td>Andorra</td>\n",
       "      <td>AD</td>\n",
       "      <td>ANDORRA GESTIO AGRICOL REIG SAU</td>\n",
       "      <td>ESCALDES-ENGORDANY</td>\n",
       "      <td>None</td>\n",
       "      <td>AAMAADAD</td>\n",
       "      <td>ESCALDES-ENGORDANY,Andorra</td>\n",
       "    </tr>\n",
       "    <tr>\n",
       "      <th>2</th>\n",
       "      <td>3</td>\n",
       "      <td>Andorra</td>\n",
       "      <td>AD</td>\n",
       "      <td>BANC SABADELL D'ANDORRA S.A.</td>\n",
       "      <td>ANDORRA LA VELLA</td>\n",
       "      <td>None</td>\n",
       "      <td>BSANADAD</td>\n",
       "      <td>ANDORRA LA VELLA,Andorra</td>\n",
       "    </tr>\n",
       "    <tr>\n",
       "      <th>3</th>\n",
       "      <td>4</td>\n",
       "      <td>Andorra</td>\n",
       "      <td>AD</td>\n",
       "      <td>BANCA PRIVADA D'ANDORRA S.A.</td>\n",
       "      <td>LES ESCALDES</td>\n",
       "      <td>None</td>\n",
       "      <td>CASBADAD</td>\n",
       "      <td>LES ESCALDES,Andorra</td>\n",
       "    </tr>\n",
       "    <tr>\n",
       "      <th>4</th>\n",
       "      <td>5</td>\n",
       "      <td>Andorra</td>\n",
       "      <td>AD</td>\n",
       "      <td>CREDIT ANDORRA,S.A.</td>\n",
       "      <td>ANDORRA LA VELLA</td>\n",
       "      <td>None</td>\n",
       "      <td>CRDAADAD</td>\n",
       "      <td>ANDORRA LA VELLA,Andorra</td>\n",
       "    </tr>\n",
       "    <tr>\n",
       "      <th>...</th>\n",
       "      <td>...</td>\n",
       "      <td>...</td>\n",
       "      <td>...</td>\n",
       "      <td>...</td>\n",
       "      <td>...</td>\n",
       "      <td>...</td>\n",
       "      <td>...</td>\n",
       "      <td>...</td>\n",
       "    </tr>\n",
       "    <tr>\n",
       "      <th>112882</th>\n",
       "      <td>112883</td>\n",
       "      <td>Zimbabwe</td>\n",
       "      <td>ZW</td>\n",
       "      <td>THE TETRAD GROUP</td>\n",
       "      <td>HARARE</td>\n",
       "      <td>None</td>\n",
       "      <td>TEGRZWH1</td>\n",
       "      <td>HARARE,Zimbabwe</td>\n",
       "    </tr>\n",
       "    <tr>\n",
       "      <th>112883</th>\n",
       "      <td>112884</td>\n",
       "      <td>Zimbabwe</td>\n",
       "      <td>ZW</td>\n",
       "      <td>TRUST CORPORATE SECURITIES (PRIVATE) LIMITED</td>\n",
       "      <td>HARARE</td>\n",
       "      <td>None</td>\n",
       "      <td>TCSPZWH1</td>\n",
       "      <td>HARARE,Zimbabwe</td>\n",
       "    </tr>\n",
       "    <tr>\n",
       "      <th>112884</th>\n",
       "      <td>112885</td>\n",
       "      <td>Zimbabwe</td>\n",
       "      <td>ZW</td>\n",
       "      <td>ZIMBABWE BANKING CORPORATION LTD.</td>\n",
       "      <td>BULAWAYO</td>\n",
       "      <td>None</td>\n",
       "      <td>ZBCOZWHXBYO</td>\n",
       "      <td>BULAWAYO,Zimbabwe</td>\n",
       "    </tr>\n",
       "    <tr>\n",
       "      <th>112885</th>\n",
       "      <td>112886</td>\n",
       "      <td>Zimbabwe</td>\n",
       "      <td>ZW</td>\n",
       "      <td>ZIMBABWE BANKING CORPORATION LTD.</td>\n",
       "      <td>HARARE</td>\n",
       "      <td>None</td>\n",
       "      <td>ZBCOZWHX</td>\n",
       "      <td>HARARE,Zimbabwe</td>\n",
       "    </tr>\n",
       "    <tr>\n",
       "      <th>112886</th>\n",
       "      <td>112887</td>\n",
       "      <td>Zimbabwe</td>\n",
       "      <td>ZW</td>\n",
       "      <td>ZIMBABWE STOCK EXCHANGE</td>\n",
       "      <td>HARARE</td>\n",
       "      <td>None</td>\n",
       "      <td>XZIMZWH1</td>\n",
       "      <td>HARARE,Zimbabwe</td>\n",
       "    </tr>\n",
       "  </tbody>\n",
       "</table>\n",
       "<p>112887 rows × 8 columns</p>\n",
       "</div>"
      ],
      "text/plain": [
       "            id   country country_code  \\\n",
       "0            1   Andorra           AD   \n",
       "1            2   Andorra           AD   \n",
       "2            3   Andorra           AD   \n",
       "3            4   Andorra           AD   \n",
       "4            5   Andorra           AD   \n",
       "...        ...       ...          ...   \n",
       "112882  112883  Zimbabwe           ZW   \n",
       "112883  112884  Zimbabwe           ZW   \n",
       "112884  112885  Zimbabwe           ZW   \n",
       "112885  112886  Zimbabwe           ZW   \n",
       "112886  112887  Zimbabwe           ZW   \n",
       "\n",
       "                                                bank                city  \\\n",
       "0                     ANDORRA BANC AGRICOL REIG S.A.        LES ESCALDES   \n",
       "1                    ANDORRA GESTIO AGRICOL REIG SAU  ESCALDES-ENGORDANY   \n",
       "2                       BANC SABADELL D'ANDORRA S.A.    ANDORRA LA VELLA   \n",
       "3                       BANCA PRIVADA D'ANDORRA S.A.        LES ESCALDES   \n",
       "4                                CREDIT ANDORRA,S.A.    ANDORRA LA VELLA   \n",
       "...                                              ...                 ...   \n",
       "112882                              THE TETRAD GROUP              HARARE   \n",
       "112883  TRUST CORPORATE SECURITIES (PRIVATE) LIMITED              HARARE   \n",
       "112884             ZIMBABWE BANKING CORPORATION LTD.            BULAWAYO   \n",
       "112885             ZIMBABWE BANKING CORPORATION LTD.              HARARE   \n",
       "112886                       ZIMBABWE STOCK EXCHANGE              HARARE   \n",
       "\n",
       "       branch   swift_code                     geocode  \n",
       "0        None     BACAADAD        LES ESCALDES,Andorra  \n",
       "1        None     AAMAADAD  ESCALDES-ENGORDANY,Andorra  \n",
       "2        None     BSANADAD    ANDORRA LA VELLA,Andorra  \n",
       "3        None     CASBADAD        LES ESCALDES,Andorra  \n",
       "4        None     CRDAADAD    ANDORRA LA VELLA,Andorra  \n",
       "...       ...          ...                         ...  \n",
       "112882   None     TEGRZWH1             HARARE,Zimbabwe  \n",
       "112883   None     TCSPZWH1             HARARE,Zimbabwe  \n",
       "112884   None  ZBCOZWHXBYO           BULAWAYO,Zimbabwe  \n",
       "112885   None     ZBCOZWHX             HARARE,Zimbabwe  \n",
       "112886   None     XZIMZWH1             HARARE,Zimbabwe  \n",
       "\n",
       "[112887 rows x 8 columns]"
      ]
     },
     "execution_count": 3,
     "metadata": {},
     "output_type": "execute_result"
    }
   ],
   "source": [
    "BIC_DATA"
   ]
  },
  {
   "cell_type": "code",
   "execution_count": 77,
   "metadata": {},
   "outputs": [
    {
     "name": "stderr",
     "output_type": "stream",
     "text": [
      "100%|██████████| 16634/16634 [2:18:43<00:00,  2.00it/s]  \n"
     ]
    }
   ],
   "source": [
    "LOC_DATA = pd.DataFrame(BIC_DATA['geocode'])\n",
    "LOC_DATA = LOC_DATA.drop_duplicates()\n",
    "LOC_DATA = LOC_DATA[LOC_DATA.geocode != 'CENTRO DE CIUDAD SANTA FE,Mexico']\n",
    "LOC_DATA = LOC_DATA[LOC_DATA.geocode != 'MONTERREY,N.L.,Mexico']\n",
    "location = LOC_DATA.geocode.progress_apply(lambda loc: geolocator.geocode(loc))"
   ]
  },
  {
   "cell_type": "code",
   "execution_count": 78,
   "metadata": {},
   "outputs": [],
   "source": [
    "location.to_csv('location.csv')\n"
   ]
  },
  {
   "cell_type": "code",
   "execution_count": 76,
   "metadata": {},
   "outputs": [
    {
     "ename": "AttributeError",
     "evalue": "'NoneType' object has no attribute 'latitude'",
     "output_type": "error",
     "traceback": [
      "\u001b[1;31m---------------------------------------------------------------------------\u001b[0m",
      "\u001b[1;31mAttributeError\u001b[0m                            Traceback (most recent call last)",
      "\u001b[1;32m<ipython-input-76-9dbcaa4d2984>\u001b[0m in \u001b[0;36m<module>\u001b[1;34m\u001b[0m\n\u001b[0;32m      1\u001b[0m \u001b[0mtmp\u001b[0m \u001b[1;33m=\u001b[0m \u001b[0mLOC_DATA\u001b[0m\u001b[1;33m.\u001b[0m\u001b[0mcopy\u001b[0m\u001b[1;33m(\u001b[0m\u001b[1;33m)\u001b[0m\u001b[1;33m\u001b[0m\u001b[1;33m\u001b[0m\u001b[0m\n\u001b[1;32m----> 2\u001b[1;33m \u001b[0mtmp\u001b[0m\u001b[1;33m[\u001b[0m\u001b[1;34m\"latitude\"\u001b[0m\u001b[1;33m]\u001b[0m \u001b[1;33m=\u001b[0m \u001b[1;33m[\u001b[0m\u001b[0mx\u001b[0m\u001b[1;33m.\u001b[0m\u001b[0mlatitude\u001b[0m \u001b[1;32mfor\u001b[0m \u001b[0mx\u001b[0m \u001b[1;32min\u001b[0m \u001b[0mlocation\u001b[0m\u001b[1;33m]\u001b[0m\u001b[1;33m\u001b[0m\u001b[1;33m\u001b[0m\u001b[0m\n\u001b[0m\u001b[0;32m      3\u001b[0m \u001b[0mtmp\u001b[0m\u001b[1;33m[\u001b[0m\u001b[1;34m\"longitude\"\u001b[0m\u001b[1;33m]\u001b[0m \u001b[1;33m=\u001b[0m \u001b[1;33m[\u001b[0m\u001b[0mx\u001b[0m\u001b[1;33m.\u001b[0m\u001b[0mlongitude\u001b[0m \u001b[1;32mfor\u001b[0m \u001b[0mx\u001b[0m \u001b[1;32min\u001b[0m \u001b[0mlocation\u001b[0m\u001b[1;33m]\u001b[0m\u001b[1;33m\u001b[0m\u001b[1;33m\u001b[0m\u001b[0m\n",
      "\u001b[1;32m<ipython-input-76-9dbcaa4d2984>\u001b[0m in \u001b[0;36m<listcomp>\u001b[1;34m(.0)\u001b[0m\n\u001b[0;32m      1\u001b[0m \u001b[0mtmp\u001b[0m \u001b[1;33m=\u001b[0m \u001b[0mLOC_DATA\u001b[0m\u001b[1;33m.\u001b[0m\u001b[0mcopy\u001b[0m\u001b[1;33m(\u001b[0m\u001b[1;33m)\u001b[0m\u001b[1;33m\u001b[0m\u001b[1;33m\u001b[0m\u001b[0m\n\u001b[1;32m----> 2\u001b[1;33m \u001b[0mtmp\u001b[0m\u001b[1;33m[\u001b[0m\u001b[1;34m\"latitude\"\u001b[0m\u001b[1;33m]\u001b[0m \u001b[1;33m=\u001b[0m \u001b[1;33m[\u001b[0m\u001b[0mx\u001b[0m\u001b[1;33m.\u001b[0m\u001b[0mlatitude\u001b[0m \u001b[1;32mfor\u001b[0m \u001b[0mx\u001b[0m \u001b[1;32min\u001b[0m \u001b[0mlocation\u001b[0m\u001b[1;33m]\u001b[0m\u001b[1;33m\u001b[0m\u001b[1;33m\u001b[0m\u001b[0m\n\u001b[0m\u001b[0;32m      3\u001b[0m \u001b[0mtmp\u001b[0m\u001b[1;33m[\u001b[0m\u001b[1;34m\"longitude\"\u001b[0m\u001b[1;33m]\u001b[0m \u001b[1;33m=\u001b[0m \u001b[1;33m[\u001b[0m\u001b[0mx\u001b[0m\u001b[1;33m.\u001b[0m\u001b[0mlongitude\u001b[0m \u001b[1;32mfor\u001b[0m \u001b[0mx\u001b[0m \u001b[1;32min\u001b[0m \u001b[0mlocation\u001b[0m\u001b[1;33m]\u001b[0m\u001b[1;33m\u001b[0m\u001b[1;33m\u001b[0m\u001b[0m\n",
      "\u001b[1;31mAttributeError\u001b[0m: 'NoneType' object has no attribute 'latitude'"
     ]
    }
   ],
   "source": [
    "tmp = LOC_DATA.copy()\n",
    "tmp[\"latitude\"] = [x.latitude for x in location]\n",
    "tmp[\"longitude\"] = [x.longitude for x in location]"
   ]
  },
  {
   "cell_type": "code",
   "execution_count": 79,
   "metadata": {},
   "outputs": [
    {
     "data": {
      "text/plain": [
       "0         (les Escaldes, Escaldes-Engordany, AD700, Ando...\n",
       "1         (Escaldes-Engordany, AD700, Andorra, (42.48691...\n",
       "2         (Andorra la Vella, AD500, Andorra, (42.5069391...\n",
       "9         (دبي, 39205, الإمارات العربية المتحدة, (25.265...\n",
       "12        (نادي العاصمة للفروسية +971501222551, أبو ظبي,...\n",
       "                                ...                        \n",
       "112823    (Harare, Harare Province, 04-263, Zimbabwe, (-...\n",
       "112858    (Bulawayo, Bulawayo Province, Zimbabwe, (-20.1...\n",
       "112870    (Chinhoyi, Makonde, Mashonaland West, Zimbabwe...\n",
       "112871    (Gweru, Midlands, Zimbabwe, (-19.4616316, 29.8...\n",
       "112873    (Mutare, Manicaland, Zimbabwe, (-19.24886155, ...\n",
       "Name: geocode, Length: 16634, dtype: object"
      ]
     },
     "execution_count": 79,
     "metadata": {},
     "output_type": "execute_result"
    }
   ],
   "source": [
    "location"
   ]
  },
  {
   "cell_type": "code",
   "execution_count": null,
   "metadata": {},
   "outputs": [],
   "source": [
    "BIC_DATA[\"latitude\"] = [x.latitude for x in location]\n",
    "BIC_DATA[\"longitude\"] = [x.longitude for x in location]\n",
    "BIC_DATA = BIC_DATA.drop('geocode',1)"
   ]
  },
  {
   "cell_type": "code",
   "execution_count": 48,
   "metadata": {},
   "outputs": [
    {
     "ename": "TypeError",
     "evalue": "list indices must be integers or slices, not DataFrame",
     "output_type": "error",
     "traceback": [
      "\u001b[1;31m---------------------------------------------------------------------------\u001b[0m",
      "\u001b[1;31mTypeError\u001b[0m                                 Traceback (most recent call last)",
      "\u001b[1;32m<ipython-input-48-d86c0d5eab33>\u001b[0m in \u001b[0;36m<module>\u001b[1;34m\u001b[0m\n\u001b[0;32m      1\u001b[0m \u001b[1;32mfor\u001b[0m \u001b[0mi\u001b[0m \u001b[1;32min\u001b[0m \u001b[0msplit_dataframes\u001b[0m\u001b[1;33m:\u001b[0m\u001b[1;33m\u001b[0m\u001b[1;33m\u001b[0m\u001b[0m\n\u001b[1;32m----> 2\u001b[1;33m     \u001b[0mtemp\u001b[0m \u001b[1;33m=\u001b[0m \u001b[0mpd\u001b[0m\u001b[1;33m.\u001b[0m\u001b[0mDataFrame\u001b[0m\u001b[1;33m(\u001b[0m\u001b[0msplit_dataframes\u001b[0m\u001b[1;33m[\u001b[0m\u001b[0mi\u001b[0m\u001b[1;33m]\u001b[0m\u001b[1;33m)\u001b[0m\u001b[1;33m\u001b[0m\u001b[1;33m\u001b[0m\u001b[0m\n\u001b[0m\u001b[0;32m      3\u001b[0m     \u001b[0mlocation\u001b[0m \u001b[1;33m=\u001b[0m \u001b[0mtemp\u001b[0m\u001b[1;33m.\u001b[0m\u001b[0mgeocode\u001b[0m\u001b[1;33m.\u001b[0m\u001b[0mprogress_apply\u001b[0m\u001b[1;33m(\u001b[0m\u001b[1;32mlambda\u001b[0m \u001b[0mloc\u001b[0m\u001b[1;33m:\u001b[0m \u001b[0mgeolocator\u001b[0m\u001b[1;33m.\u001b[0m\u001b[0mgeocode\u001b[0m\u001b[1;33m(\u001b[0m\u001b[0mloc\u001b[0m\u001b[1;33m)\u001b[0m\u001b[1;33m)\u001b[0m\u001b[1;33m\u001b[0m\u001b[1;33m\u001b[0m\u001b[0m\n\u001b[0;32m      4\u001b[0m     \u001b[0mLOC_DATA\u001b[0m\u001b[1;33m[\u001b[0m\u001b[1;34m\"latitude\"\u001b[0m\u001b[1;33m]\u001b[0m \u001b[1;33m=\u001b[0m \u001b[1;33m[\u001b[0m\u001b[0mx\u001b[0m\u001b[1;33m.\u001b[0m\u001b[0mlatitude\u001b[0m \u001b[1;32mfor\u001b[0m \u001b[0mx\u001b[0m \u001b[1;32min\u001b[0m \u001b[0mlocation\u001b[0m\u001b[1;33m]\u001b[0m\u001b[1;33m\u001b[0m\u001b[1;33m\u001b[0m\u001b[0m\n\u001b[0;32m      5\u001b[0m     \u001b[0mLOC_DATA\u001b[0m\u001b[1;33m[\u001b[0m\u001b[1;34m\"longitude\"\u001b[0m\u001b[1;33m]\u001b[0m \u001b[1;33m=\u001b[0m \u001b[1;33m[\u001b[0m\u001b[0mx\u001b[0m\u001b[1;33m.\u001b[0m\u001b[0mlongitude\u001b[0m \u001b[1;32mfor\u001b[0m \u001b[0mx\u001b[0m \u001b[1;32min\u001b[0m \u001b[0mlocation\u001b[0m\u001b[1;33m]\u001b[0m\u001b[1;33m\u001b[0m\u001b[1;33m\u001b[0m\u001b[0m\n",
      "\u001b[1;31mTypeError\u001b[0m: list indices must be integers or slices, not DataFrame"
     ]
    }
   ],
   "source": [
    "for i in split_dataframes:\n",
    "    temp = pd.DataFrame(split_dataframes[i])\n",
    "    location = temp.geocode.progress_apply(lambda loc: geolocator.geocode(loc))\n",
    "    LOC_DATA[\"latitude\"] = [x.latitude for x in location]\n",
    "    LOC_DATA[\"longitude\"] = [x.longitude for x in location]\n",
    "    LOC_DATA.to_csv('split_'+str(i)+'.csv')\n",
    "    "
   ]
  },
  {
   "cell_type": "code",
   "execution_count": 80,
   "metadata": {},
   "outputs": [
    {
     "ename": "AttributeError",
     "evalue": "'NoneType' object has no attribute 'latitude'",
     "output_type": "error",
     "traceback": [
      "\u001b[1;31m---------------------------------------------------------------------------\u001b[0m",
      "\u001b[1;31mAttributeError\u001b[0m                            Traceback (most recent call last)",
      "\u001b[1;32m<ipython-input-80-b8ea42d3ef88>\u001b[0m in \u001b[0;36m<module>\u001b[1;34m\u001b[0m\n\u001b[1;32m----> 1\u001b[1;33m \u001b[0mLOC_DATA\u001b[0m\u001b[1;33m[\u001b[0m\u001b[1;34m\"latitude\"\u001b[0m\u001b[1;33m]\u001b[0m \u001b[1;33m=\u001b[0m \u001b[1;33m[\u001b[0m\u001b[0mx\u001b[0m\u001b[1;33m.\u001b[0m\u001b[0mlatitude\u001b[0m \u001b[1;32mfor\u001b[0m \u001b[0mx\u001b[0m \u001b[1;32min\u001b[0m \u001b[0mlocation\u001b[0m\u001b[1;33m]\u001b[0m\u001b[1;33m\u001b[0m\u001b[1;33m\u001b[0m\u001b[0m\n\u001b[0m",
      "\u001b[1;32m<ipython-input-80-b8ea42d3ef88>\u001b[0m in \u001b[0;36m<listcomp>\u001b[1;34m(.0)\u001b[0m\n\u001b[1;32m----> 1\u001b[1;33m \u001b[0mLOC_DATA\u001b[0m\u001b[1;33m[\u001b[0m\u001b[1;34m\"latitude\"\u001b[0m\u001b[1;33m]\u001b[0m \u001b[1;33m=\u001b[0m \u001b[1;33m[\u001b[0m\u001b[0mx\u001b[0m\u001b[1;33m.\u001b[0m\u001b[0mlatitude\u001b[0m \u001b[1;32mfor\u001b[0m \u001b[0mx\u001b[0m \u001b[1;32min\u001b[0m \u001b[0mlocation\u001b[0m\u001b[1;33m]\u001b[0m\u001b[1;33m\u001b[0m\u001b[1;33m\u001b[0m\u001b[0m\n\u001b[0m",
      "\u001b[1;31mAttributeError\u001b[0m: 'NoneType' object has no attribute 'latitude'"
     ]
    }
   ],
   "source": [
    "\n",
    "LOC_DATA[\"latitude\"] = [x.latitude for x in location]"
   ]
  }
 ],
 "metadata": {
  "kernelspec": {
   "display_name": "Python 3",
   "language": "python",
   "name": "python3"
  },
  "language_info": {
   "codemirror_mode": {
    "name": "ipython",
    "version": 3
   },
   "file_extension": ".py",
   "mimetype": "text/x-python",
   "name": "python",
   "nbconvert_exporter": "python",
   "pygments_lexer": "ipython3",
   "version": "3.8.3"
  }
 },
 "nbformat": 4,
 "nbformat_minor": 4
}
